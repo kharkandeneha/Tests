{
 "cells": [
  {
   "cell_type": "markdown",
   "id": "b34dd591",
   "metadata": {},
   "source": [
    "## Case Study 2: Employee Performance Analysis\n",
    "Problem Statement:\n",
    "You have a dataset with information about employees, including their performance ratings, years of experience, and department. Perform the following tasks:\n",
    "\n",
    "Load the dataset and understand its structure.\n",
    "Explore the distribution of performance ratings.\n",
    "Identify factors affecting performance (e.g., experience, department).\n",
    "Calculate average performance ratings for each department.\n",
    "Visualize the performance distribution using histograms.\n"
   ]
  },
  {
   "cell_type": "code",
   "execution_count": 39,
   "id": "9e753c9a",
   "metadata": {},
   "outputs": [],
   "source": [
    "import pandas as pd\n",
    "import matplotlib.pyplot as plt\n",
    "import seaborn as sns"
   ]
  },
  {
   "cell_type": "code",
   "execution_count": 65,
   "id": "998f34a5",
   "metadata": {},
   "outputs": [],
   "source": [
    "Emp_data = {\n",
    "    'Name': ['Neha', 'Ram', 'Rutuja', 'Sam', 'Sakshi','Prachi','Reema','Divya','Vinay','Vineet','Rohit'],\n",
    "    'Department': ['IT', 'DataAnalist', 'IT', 'Software_Testing', 'Finance','HR','IT','DataAnalist','Dr','Finance','HR'],\n",
    "    'Ratings_In_Stars':[5,2,4,4,2,4,5,1,1,3,4],\n",
    "    'Experience_years':[10,5,8,9,4,8,11,3,2,6,9]\n",
    "}"
   ]
  },
  {
   "cell_type": "code",
   "execution_count": 66,
   "id": "2cd2391e",
   "metadata": {},
   "outputs": [],
   "source": [
    "df = pd.DataFrame(Emp_data)"
   ]
  },
  {
   "cell_type": "code",
   "execution_count": 67,
   "id": "e226a688",
   "metadata": {},
   "outputs": [
    {
     "data": {
      "text/html": [
       "<div>\n",
       "<style scoped>\n",
       "    .dataframe tbody tr th:only-of-type {\n",
       "        vertical-align: middle;\n",
       "    }\n",
       "\n",
       "    .dataframe tbody tr th {\n",
       "        vertical-align: top;\n",
       "    }\n",
       "\n",
       "    .dataframe thead th {\n",
       "        text-align: right;\n",
       "    }\n",
       "</style>\n",
       "<table border=\"1\" class=\"dataframe\">\n",
       "  <thead>\n",
       "    <tr style=\"text-align: right;\">\n",
       "      <th></th>\n",
       "      <th>Name</th>\n",
       "      <th>Department</th>\n",
       "      <th>Ratings_In_Stars</th>\n",
       "      <th>Experience_years</th>\n",
       "    </tr>\n",
       "  </thead>\n",
       "  <tbody>\n",
       "    <tr>\n",
       "      <th>0</th>\n",
       "      <td>Neha</td>\n",
       "      <td>IT</td>\n",
       "      <td>5</td>\n",
       "      <td>10</td>\n",
       "    </tr>\n",
       "    <tr>\n",
       "      <th>1</th>\n",
       "      <td>Ram</td>\n",
       "      <td>DataAnalist</td>\n",
       "      <td>2</td>\n",
       "      <td>5</td>\n",
       "    </tr>\n",
       "    <tr>\n",
       "      <th>2</th>\n",
       "      <td>Rutuja</td>\n",
       "      <td>IT</td>\n",
       "      <td>4</td>\n",
       "      <td>8</td>\n",
       "    </tr>\n",
       "    <tr>\n",
       "      <th>3</th>\n",
       "      <td>Sam</td>\n",
       "      <td>Software_Testing</td>\n",
       "      <td>4</td>\n",
       "      <td>9</td>\n",
       "    </tr>\n",
       "    <tr>\n",
       "      <th>4</th>\n",
       "      <td>Sakshi</td>\n",
       "      <td>Finance</td>\n",
       "      <td>2</td>\n",
       "      <td>4</td>\n",
       "    </tr>\n",
       "    <tr>\n",
       "      <th>5</th>\n",
       "      <td>Prachi</td>\n",
       "      <td>HR</td>\n",
       "      <td>4</td>\n",
       "      <td>8</td>\n",
       "    </tr>\n",
       "    <tr>\n",
       "      <th>6</th>\n",
       "      <td>Reema</td>\n",
       "      <td>IT</td>\n",
       "      <td>5</td>\n",
       "      <td>11</td>\n",
       "    </tr>\n",
       "    <tr>\n",
       "      <th>7</th>\n",
       "      <td>Divya</td>\n",
       "      <td>DataAnalist</td>\n",
       "      <td>1</td>\n",
       "      <td>3</td>\n",
       "    </tr>\n",
       "    <tr>\n",
       "      <th>8</th>\n",
       "      <td>Vinay</td>\n",
       "      <td>Dr</td>\n",
       "      <td>1</td>\n",
       "      <td>2</td>\n",
       "    </tr>\n",
       "    <tr>\n",
       "      <th>9</th>\n",
       "      <td>Vineet</td>\n",
       "      <td>Finance</td>\n",
       "      <td>3</td>\n",
       "      <td>6</td>\n",
       "    </tr>\n",
       "    <tr>\n",
       "      <th>10</th>\n",
       "      <td>Rohit</td>\n",
       "      <td>HR</td>\n",
       "      <td>4</td>\n",
       "      <td>9</td>\n",
       "    </tr>\n",
       "  </tbody>\n",
       "</table>\n",
       "</div>"
      ],
      "text/plain": [
       "      Name        Department  Ratings_In_Stars  Experience_years\n",
       "0     Neha                IT                 5                10\n",
       "1      Ram       DataAnalist                 2                 5\n",
       "2   Rutuja                IT                 4                 8\n",
       "3      Sam  Software_Testing                 4                 9\n",
       "4   Sakshi           Finance                 2                 4\n",
       "5   Prachi                HR                 4                 8\n",
       "6    Reema                IT                 5                11\n",
       "7    Divya       DataAnalist                 1                 3\n",
       "8    Vinay                Dr                 1                 2\n",
       "9   Vineet           Finance                 3                 6\n",
       "10   Rohit                HR                 4                 9"
      ]
     },
     "execution_count": 67,
     "metadata": {},
     "output_type": "execute_result"
    }
   ],
   "source": [
    "df"
   ]
  },
  {
   "cell_type": "markdown",
   "id": "ded2484f",
   "metadata": {},
   "source": [
    "##### Explore the distribution of performance ratings"
   ]
  },
  {
   "cell_type": "code",
   "execution_count": 68,
   "id": "19825b20",
   "metadata": {},
   "outputs": [
    {
     "data": {
      "text/plain": [
       "Name                11\n",
       "Department          11\n",
       "Ratings_In_Stars    11\n",
       "Experience_years    11\n",
       "dtype: int64"
      ]
     },
     "execution_count": 68,
     "metadata": {},
     "output_type": "execute_result"
    }
   ],
   "source": [
    "df.count()"
   ]
  },
  {
   "cell_type": "code",
   "execution_count": 69,
   "id": "e7d5f675",
   "metadata": {},
   "outputs": [
    {
     "data": {
      "text/plain": [
       "Index(['Name', 'Department', 'Ratings_In_Stars', 'Experience_years'], dtype='object')"
      ]
     },
     "execution_count": 69,
     "metadata": {},
     "output_type": "execute_result"
    }
   ],
   "source": [
    "df.columns"
   ]
  },
  {
   "cell_type": "code",
   "execution_count": 70,
   "id": "11838d6a",
   "metadata": {},
   "outputs": [
    {
     "data": {
      "text/plain": [
       "<Axes: xlabel='Ratings_In_Stars', ylabel='count'>"
      ]
     },
     "execution_count": 70,
     "metadata": {},
     "output_type": "execute_result"
    },
    {
     "data": {
      "image/png": "[encoded data removed]",
      "text/plain": [
       "<Figure size 640x480 with 1 Axes>"
      ]
     },
     "metadata": {},
     "output_type": "display_data"
    }
   ],
   "source": [
    "sns.countplot(x = df['Ratings_In_Stars'])"
   ]
  },
  {
   "cell_type": "markdown",
   "id": "b5896e71",
   "metadata": {},
   "source": [
    "#### Identify factors affecting performance"
   ]
  },
  {
   "cell_type": "code",
   "execution_count": 71,
   "id": "4af2a152",
   "metadata": {},
   "outputs": [
    {
     "data": {
      "text/plain": [
       "<Axes: xlabel='Ratings_In_Stars', ylabel='Experience_years'>"
      ]
     },
     "execution_count": 71,
     "metadata": {},
     "output_type": "execute_result"
    },
    {
     "data": {
      "image/png": "[encoded data removed]",
      "text/plain": [
       "<Figure size 640x480 with 1 Axes>"
      ]
     },
     "metadata": {},
     "output_type": "display_data"
    }
   ],
   "source": [
    "sns.barplot(x = df[\"Ratings_In_Stars\"] , y = df[\"Experience_years\"])"
   ]
  },
  {
   "cell_type": "code",
   "execution_count": 86,
   "id": "dfa1e2f7",
   "metadata": {},
   "outputs": [
    {
     "data": {
      "text/plain": [
       "Department\n",
       "DataAnalist         1.500000\n",
       "Dr                  1.000000\n",
       "Finance             2.500000\n",
       "HR                  4.000000\n",
       "IT                  4.666667\n",
       "Software_Testing    4.000000\n",
       "Name: Ratings_In_Stars, dtype: float64"
      ]
     },
     "execution_count": 86,
     "metadata": {},
     "output_type": "execute_result"
    }
   ],
   "source": [
    "ave_performance = df.groupby('Department')['Ratings_In_Stars'].mean()\n",
    "ave_performance"
   ]
  },
  {
   "cell_type": "code",
   "execution_count": 88,
   "id": "541e445a",
   "metadata": {},
   "outputs": [
    {
     "data": {
      "image/png": "[encoded data removed]",
      "text/plain": [
       "<Figure size 640x480 with 1 Axes>"
      ]
     },
     "metadata": {},
     "output_type": "display_data"
    }
   ],
   "source": [
    "sns.histplot(df['Ratings_In_Stars'], color='skyblue')\n",
    "plt.title('Distribution of Ratings')\n",
    "plt.xlabel('Ratings in Stars')\n",
    "plt.ylabel('Count')\n",
    "plt.show()"
   ]
  },
  {
   "cell_type": "code",
   "execution_count": null,
   "id": "c01acef7",
   "metadata": {},
   "outputs": [],
   "source": []
  },
  {
   "cell_type": "code",
   "execution_count": null,
   "id": "d0e8db29",
   "metadata": {},
   "outputs": [],
   "source": []
  }
 ],
 "metadata": {
  "kernelspec": {
   "display_name": "Python 3 (ipykernel)",
   "language": "python",
   "name": "python3"
  },
  "language_info": {
   "codemirror_mode": {
    "name": "ipython",
    "version": 3
   },
   "file_extension": ".py",
   "mimetype": "text/x-python",
   "name": "python",
   "nbconvert_exporter": "python",
   "pygments_lexer": "ipython3",
   "version": "3.10.9"
  }
 },
 "nbformat": 4,
 "nbformat_minor": 5
}
